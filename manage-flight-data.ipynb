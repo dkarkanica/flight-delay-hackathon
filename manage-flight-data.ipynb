{
 "cells": [
  {
   "cell_type": "code",
   "execution_count": 1,
   "metadata": {},
   "outputs": [
    {
     "name": "stdout",
     "output_type": "stream",
     "text": [
      "Year                    0\n",
      "Month                   0\n",
      "DayofMonth              0\n",
      "DayOfWeek               0\n",
      "Carrier                 0\n",
      "OriginAirportID         0\n",
      "OriginAirportName       0\n",
      "OriginCity              0\n",
      "OriginState             0\n",
      "DestAirportID           0\n",
      "DestAirportName         0\n",
      "DestCity                0\n",
      "DestState               0\n",
      "CRSDepTime              0\n",
      "DepDelay                0\n",
      "DepDel15             2761\n",
      "CRSArrTime              0\n",
      "ArrDelay                0\n",
      "ArrDel15                0\n",
      "Cancelled               0\n",
      "dtype: int64\n"
     ]
    }
   ],
   "source": [
    "import pandas as pd\n",
    "\n",
    "# Load the data\n",
    "df_flights = pd.read_csv('data/flights.csv')\n",
    "\n",
    "# Check for null values\n",
    "null_values = df_flights.isnull().sum()\n",
    "print(null_values)\n",
    "\n",
    "# Fill null values with zero\n",
    "df_flights.fillna(0, inplace=True)\n",
    "\n",
    "# Remove rows where DepDelay is higher than the 90th percentile\n",
    "df_flights = df_flights[df_flights['DepDelay'] <= df_flights['DepDelay'].quantile(0.90)]\n",
    "\n",
    "# Remove rows where ArrDelay is higher than the 90th percentile\n",
    "df_flights = df_flights[df_flights['ArrDelay'] <= df_flights['ArrDelay'].quantile(0.90)]\n",
    "\n",
    "# Display the first few rows of the dataframe\n",
    "df_flights.head()\n",
    "\n",
    "# Save the cleansed data to a new CSV file\n",
    "df_flights.to_csv('data/cleansed_flights.csv', index=False)"
   ]
  }
 ],
 "metadata": {
  "kernelspec": {
   "display_name": "base",
   "language": "python",
   "name": "python3"
  },
  "language_info": {
   "codemirror_mode": {
    "name": "ipython",
    "version": 3
   },
   "file_extension": ".py",
   "mimetype": "text/x-python",
   "name": "python",
   "nbconvert_exporter": "python",
   "pygments_lexer": "ipython3",
   "version": "3.11.7"
  }
 },
 "nbformat": 4,
 "nbformat_minor": 2
}
